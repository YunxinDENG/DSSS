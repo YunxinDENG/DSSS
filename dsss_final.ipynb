{
 "cells": [
  {
   "cell_type": "markdown",
   "id": "5007d870-a9f6-4b80-8321-556504da62bc",
   "metadata": {},
   "source": [
    "#### About this document\n",
    "_This is the assignment for the UCL CASA module Data Science for Spatial Systems (CASA0006) <br>This is a self contained Jupyter notebook with structure introduction, discussion and embeded code and bibliography._\n",
    "<br>\n",
    "\n",
    "**Code is hosted [here](https://github.com/YunxinDENG/TEA_profile_predict/dsss_final.ipynb)**<br>\n",
    "**Data is availble [here](https://github.com/YunxinDENG/TEA_profile_predict/tree/main/data)**<br>"
   ]
  },
  {
   "cell_type": "markdown",
   "id": "12c71cf6-b226-4fc1-af5b-f5bf9d6fa25b",
   "metadata": {},
   "source": [
    "<hr>"
   ]
  },
  {
   "cell_type": "markdown",
   "id": "1b03e0a1-7dfb-4d4e-bba4-12d5deeffca0",
   "metadata": {},
   "source": [
    "## Is it possible to predict and profile early-stage entrepreneurial activity based on pre-startup perception and behaviour?\n",
    "\n",
    "This paper explores the relationship between entrepreneurial activities and personal traitsz characteristics  from Adult Population Survey (APS) dataset of Global Entrepreneurship Monitor[(GEM)](http://gem-consortium.ns-client.xyz/data).\n",
    "\n",
    "It emphasizes that the heterogeneity of individual characteristics relates to entreupreneurship decision. Analysis will be conducted in the following steps: \n",
    "1. Data and feature selection; \n",
    "2. Splitting the data into training and test sets; \n",
    "3. Training the models;  \n",
    "4. Evaluating Accuracy; \n",
    "5. Interpreting the output."
   ]
  },
  {
   "cell_type": "markdown",
   "id": "3e68eb21-25be-4d17-bcb6-f96f04ffbec9",
   "metadata": {},
   "source": [
    "<hr>"
   ]
  },
  {
   "cell_type": "markdown",
   "id": "abfe83b8-8c05-4c6e-a1fa-41c8bd53d41c",
   "metadata": {},
   "source": [
    "# Introduction\n",
    "Entrepreneurship has been recognized as a critical driver of social and economic development in urban societies. While external factors such as economic conditions and policies can explain entrepreneurial success, few individuals are motivated to start their own businesses even if external conditions are favorable. The emergence of new ventures involves personal factors such as opportunity recognition, evaluation, and exploitation. Understanding the social-cognitive elements that lead to early-stage entrepreneurship is essential for designing policies and interventions that support entrepreneurship.\n",
    "\n",
    "In this study, we adopt a machine learning approach to predict and profile Total Early-stage Entrepreneurial Activity (TEA). We use a decision tree and clustering analysis to identify the main and necessary factors that lead to early-stage entrepreneurship and the combinations of factors that are most likely to result in entrepreneurship."
   ]
  },
  {
   "cell_type": "markdown",
   "id": "68f2fcb1-5155-4430-8a79-5fccc8f4ad4f",
   "metadata": {},
   "source": [
    "## Literature Review\n"
   ]
  },
  {
   "cell_type": "markdown",
   "id": "af14b3ca-11a4-45b8-8af7-075a06466915",
   "metadata": {},
   "source": [
    "Entrepreneurship has been recognized as an important driver of economic growth and job creation. However, the decision to become an entrepreneur is complex and involves various factors. Self-efficacy, opportunity recognition, and social norms have been identified as key factors that influence entrepreneurial intention and behavior (Shane and Venkataraman, 2000). Research has found that higher levels of self-efficacy and opportunity recognition are positively associated with greater entrepreneurial intention and behavior (Baum and Locke, 2004). Similarly, social norms that support entrepreneurship have also been found to be positively associated with entrepreneurial intention and behavior (Kautonen et al., 2015). Furthermore, household income has been found to be positively associated with entrepreneurial activity, suggesting that financial resources play a critical role in entrepreneurship (Henley, 2007). Additionally, a supportive framework condition, such as access to funding, favorable regulations, and business infrastructure, has been found to facilitate entrepreneurship (Glaeser and Kerr, 2009; Urbano and Guerrero, 2013). Research has suggested that these factors interact in complex ways, underscoring the need for further research that explores the interplay between social, cognitive, economic, and institutional factors in entrepreneurship.（Lim et al., 2016）"
   ]
  },
  {
   "cell_type": "markdown",
   "id": "c38d9e72-c1d1-4e3b-81f1-e8f9358ae789",
   "metadata": {},
   "source": [
    "## Research Question\n",
    "The research question for this paper is: **Is it possible to predict and profile early-stage entrepreneurial activity based on pre-startup perception and behaviour?**  <br>\n",
    "\n",
    "Specifically, our research question is:  <br>\n",
    "_Q1: Which social-cognitive elements are the main and necessary factors that lead to early stage entrepreneurship?   <br>Q2: What combinations of factors are most likely to lead to early stage entrepreneurship?_"
   ]
  },
  {
   "cell_type": "markdown",
   "id": "d5393201-9365-42b3-a59c-a9e16c8d802a",
   "metadata": {},
   "source": [
    "# Presentation of data"
   ]
  },
  {
   "cell_type": "markdown",
   "id": "78647fc6-b631-4107-b06b-bb22317a08b2",
   "metadata": {},
   "source": [
    "## Data discription\n",
    "This study draws on the complete annual working age (2019) population dataset from the Adult Population Survey (APS) provided by the Global Entrepreneurship Monitor (GEM) for 18-64 years. The dataset used for analysis includes the recently released 2019 GEM data, which contains all of the variables summarized in our literature review. The combined dataset includes data from a total of 162862 respondents, with at least 2,000 respondents from each GEM surveyed country, containing detailed information on these individuals' entrepreneurial activity, attitudes and aspirations.\n",
    "\n",
    "**The dependent variables** of this study is **TEA**, which measures the ownership of nascent and new businesses. The nascent stage refers to businesses within the first three months of entrepreneurship and new businesses between 3 and 42 months. tEA is measured on a binary scale, where 0 = no and 1 = yes. \n",
    "\n",
    "**The independent variables** included in this study are listed in the following Table. \n",
    "  <br>\n",
    "  <br>\n",
    "  \n",
    "\n",
    "| **Independent Variables**                       | **Name**                                   | **Description**                                                                                                                                                     |\n",
    "|----------------------------------------|--------------------------------------------|---------------------------------------------------------------------------------------------------------------------------------------------------------------------|\n",
    "| ***Cognitive and Personal Characteristics*** |                                            |                                                                                                                                                                     |\n",
    "| gender                                 | Gender                                     | Binary variable where 1 = male, 2 = female                                                                                                                          |\n",
    "| age                                    | Age of respondent                          | Continuous variable for age in years                                                                                                                                |\n",
    "| suskill                                | Skills perception                          | Binary variable where 1 = has the skills, knowledge and experience to start a business, and 0 = not                                                                 |\n",
    "| knowent                                | Networks/role model                        | Binary variable where 1 = know someone personally who has started a business in the last 2 years, and 0 = not                                                       |\n",
    "| opport                                 | Opportunity perception                     | Binary variable where 1 = believes there will be good opportunities for starting a business in local area in next 6 months, and 0 = not                             |\n",
    "| fearfail                               | Fear of failure                            | Binary variable where 1 = believes that fear of failure would prevent them from starting a business and 0 = not                                                     |\n",
    "| GEMHHINC                               | Household income                           | Household income recoded into thirds where: 1 = lowest 33 % tile, 2 = middle 33 % tile, 3 = upper 33 %tile                                                                                                       |\n",
    "| UNEDUC                                 | Educational attainment                     | Highest educational attainment where                                                                                                                                |\n",
    "|                                        |                                            | 0 = pre-primary education                                                                                                                                           |\n",
    "|                                        |                                            | 1 = primary education or first stage of basic education                                                                                                             |\n",
    "|                                        |                                            | 2 = lower secondary or second stage of basic education                                                                                                              |\n",
    "|                                        |                                            | 3 = (upper) secondary education                                                                                                                                     |\n",
    "|                                        |                                            | 4 = post-secondary non-tertiary education                                                                                                                           |\n",
    "|                                        |                                            | 5 = first stage of tertiary education                                                                                                                               |\n",
    "|                                        |                                            | 6 = second stage of tertiary education                                                                                                                              |\n",
    "| ***Behaviour***                              |                                            |                                                                                                                                                                     |\n",
    "| discent                                | Business exit                              | Binary variable where 1 = in last 12 months has shut down, discontinued or quit a business they owned AND the business did not continue its activities, and 0 = not |\n",
    "| busang                                 | Business angel                             | Binary variable where 1 = business angel in last 3 years (personally provided funds for a business started by someone else), and 0 = not                            |\n",
    "| ESTBBUSO                               | Established business owner                 | Binary variable where 1 = current manager and owner of a business over 42 months old, and 0 = not                                                                   |\n",
    "| ***Environmental Perceptions***              |                                            |                                                                                                                                                                     |\n",
    "| easystart                              | Ease of starting a business                | Binary variable where 1 = believes it is easy to start a business in my country, and 0 = not                                                                        |\n",
    "| nbstatus                               | High status                                | Binary variable where 1 = believes that those successful at starting a new business have a high level of status and respect and 0 = not                             |\n",
    "| nbsocent                               | Social enterprise                          | Binary variable where 1 = in my country you often see businesses that primarily aim to solve social problems, and 0 = not                                           |\n",
    "| nbmedia                                | Media coverage                             | Binary variable where 1 = believes that you often see stories in the media about successful new businesses and 0 = not                                              |\n",
    "| ***Framework Condition***              |                                            |                                                                                                                                                                     |\n",
    "| WEFInc                                 | Country Income Group GCR REPORT                     | World Bank country classifications by income level:  where 1 = Low income, 2 = Lower-middle income, 3 = Upper-middle income, 4 = High income                                                           |\n",
    "| CULSUPyy                              | Cultural support for entrepreneurship Index                | Binary variable where 0 = zero out of three, 1 = one out of three, 2= two out of three, 3= three out of three                                                                        |"
   ]
  },
  {
   "cell_type": "markdown",
   "id": "9841868d-d303-493c-b50d-79df72db5a91",
   "metadata": {},
   "source": [
    "We will first load essential libraries and the data.  and then select the relevant columns for analysis."
   ]
  },
  {
   "cell_type": "code",
   "execution_count": 13,
   "id": "b9c46bde-157e-4d42-a4ae-81d436adc80f",
   "metadata": {},
   "outputs": [],
   "source": [
    "\n",
    "'''\n",
    "import matplotlib as mpl\n",
    "from matplotlib import pyplot as plt\n",
    "import seaborn as sns\n",
    "from datetime import date\n",
    "from scipy import stats\n",
    "from scipy.stats import norm, skew #for some statistics\n",
    "\n",
    "import plotly.express as px\n",
    "import plotly.graph_objects as go\n",
    "import plotly.figure_factory as ff\n",
    "from plotly.colors import n_colors\n",
    "from plotly.subplots import make_subplots\n",
    "\n",
    "import warnings\n",
    "warnings.filterwarnings(\"ignore\")\n",
    "%matplotlib inline\n",
    "pd.set_option(\"display.max_columns\",None)\n",
    "pd.set_option(\"display.max_rows\",None)\n",
    "plt.style.use('seaborn')\n",
    "\n",
    "from collections import Counter\n",
    "import datetime\n",
    "import wordcloud\n",
    "import json\n",
    "\n",
    "from sklearn.preprocessing import LabelEncoder\n",
    "from sklearn.preprocessing import OrdinalEncoder\n",
    "from sklearn.model_selection import train_test_split\n",
    "from sklearn.tree import DecisionTreeClassifier\n",
    "from sklearn.metrics import accuracy_score\n",
    "from sklearn.model_selection import cross_val_score\n",
    "from sklearn.linear_model import LinearRegression\n",
    "from sklearn.metrics import mean_squared_error, r2_score\n",
    "'''\n",
    "import pandas as pd\n",
    "import numpy as np\n",
    "from matplotlib import pyplot as plt\n",
    "from sklearn.model_selection import train_test_split\n",
    "from sklearn.tree import DecisionTreeClassifier\n",
    "from sklearn.metrics import accuracy_score"
   ]
  },
  {
   "cell_type": "code",
   "execution_count": 14,
   "id": "664a6bf1-0fe5-4121-ae82-824349e5b1f3",
   "metadata": {},
   "outputs": [
    {
     "name": "stdout",
     "output_type": "stream",
     "text": [
      "<class 'pandas.core.frame.DataFrame'>\n",
      "RangeIndex: 162861 entries, 0 to 162860\n",
      "Data columns (total 24 columns):\n",
      " #   Column        Non-Null Count   Dtype  \n",
      "---  ------        --------------   -----  \n",
      " 0   ID            162640 non-null  float64\n",
      " 1   country       162850 non-null  object \n",
      " 2   country_name  162730 non-null  object \n",
      " 3   ctryalp       162730 non-null  object \n",
      " 4   yrsurv        162722 non-null  float64\n",
      " 5   TEAyy         162551 non-null  float64\n",
      " 6   gender        162779 non-null  float64\n",
      " 7   age           157765 non-null  float64\n",
      " 8   suskillL      159546 non-null  float64\n",
      " 9   knowentR      157252 non-null  float64\n",
      " 10  OPPORTyy      128770 non-null  float64\n",
      " 11  fearfailL     159201 non-null  float64\n",
      " 12  gender.1      162779 non-null  float64\n",
      " 13  GEMHHINC      134174 non-null  float64\n",
      " 14  UNEDUC        160725 non-null  float64\n",
      " 15  discent       160763 non-null  float64\n",
      " 16  busang        160862 non-null  float64\n",
      " 17  ESTBBUSO      162552 non-null  float64\n",
      " 18  easystartL    153109 non-null  float64\n",
      " 19  nbstatusL     158813 non-null  float64\n",
      " 20  nbsocentL     148071 non-null  float64\n",
      " 21  nbmediaL      155625 non-null  float64\n",
      " 22  WEFInc        162766 non-null  float64\n",
      " 23  CULSUPyy      99460 non-null   float64\n",
      "dtypes: float64(21), object(3)\n",
      "memory usage: 29.8+ MB\n"
     ]
    }
   ],
   "source": [
    "# Load the data \n",
    "TEA_2019 = pd.read_csv(\"https://raw.githubusercontent.com/YunxinDENG/TEA_profile_predict/main/data/tea_indiv_2019.csv\")\n",
    "TEA_2019.info()"
   ]
  },
  {
   "cell_type": "markdown",
   "id": "e168771d-87d5-48b1-972f-6496e7c88efb",
   "metadata": {},
   "source": [
    "  <br>\n",
    "As we can observed in the output, the original datasource has converted catergoriacal variables into numertical values. Besides, decision trees work well with missing data, so there is no need to impute or delete values."
   ]
  },
  {
   "cell_type": "code",
   "execution_count": 15,
   "id": "298980dd-b0e9-4366-97aa-42afa095e664",
   "metadata": {},
   "outputs": [],
   "source": [
    "# Select relevant columns\n",
    "TEA1 = TEA_2019.drop(TEA_2019.iloc[ : , 0:5].columns, axis = 1)"
   ]
  },
  {
   "cell_type": "markdown",
   "id": "2e68bc9d-e8f3-4a56-b8b3-211235503220",
   "metadata": {},
   "source": [
    "Graphic Summary:"
   ]
  },
  {
   "cell_type": "code",
   "execution_count": 15,
   "id": "70126eec-a5d5-4aec-a028-17d76bfc6227",
   "metadata": {},
   "outputs": [
    {
     "data": {
      "text/html": [
       "<style type=\"text/css\">\n",
       "#T_e9739_row0_col0, #T_e9739_row12_col0 {\n",
       "  background-color: #c8e020;\n",
       "  color: #000000;\n",
       "}\n",
       "#T_e9739_row0_col1, #T_e9739_row0_col2, #T_e9739_row0_col4, #T_e9739_row0_col5, #T_e9739_row0_col6, #T_e9739_row0_col7, #T_e9739_row1_col1, #T_e9739_row1_col2, #T_e9739_row1_col7, #T_e9739_row2_col2, #T_e9739_row2_col7, #T_e9739_row3_col1, #T_e9739_row3_col2, #T_e9739_row3_col7, #T_e9739_row4_col1, #T_e9739_row4_col2, #T_e9739_row4_col4, #T_e9739_row4_col7, #T_e9739_row5_col0, #T_e9739_row5_col1, #T_e9739_row5_col2, #T_e9739_row5_col4, #T_e9739_row5_col7, #T_e9739_row6_col1, #T_e9739_row6_col2, #T_e9739_row6_col7, #T_e9739_row7_col1, #T_e9739_row7_col2, #T_e9739_row7_col7, #T_e9739_row8_col1, #T_e9739_row8_col2, #T_e9739_row8_col7, #T_e9739_row9_col1, #T_e9739_row9_col2, #T_e9739_row9_col7, #T_e9739_row10_col1, #T_e9739_row10_col2, #T_e9739_row10_col4, #T_e9739_row10_col5, #T_e9739_row10_col6, #T_e9739_row10_col7, #T_e9739_row11_col4, #T_e9739_row11_col5, #T_e9739_row11_col6, #T_e9739_row12_col1, #T_e9739_row12_col2, #T_e9739_row12_col4, #T_e9739_row12_col5, #T_e9739_row12_col6, #T_e9739_row12_col7, #T_e9739_row13_col1, #T_e9739_row13_col2, #T_e9739_row13_col7, #T_e9739_row14_col1, #T_e9739_row14_col2, #T_e9739_row14_col7, #T_e9739_row15_col1, #T_e9739_row15_col2, #T_e9739_row15_col7 {\n",
       "  background-color: #453581;\n",
       "  color: #f1f1f1;\n",
       "}\n",
       "#T_e9739_row0_col3, #T_e9739_row1_col3, #T_e9739_row2_col3, #T_e9739_row3_col3, #T_e9739_row4_col3, #T_e9739_row5_col3, #T_e9739_row6_col3, #T_e9739_row7_col3, #T_e9739_row8_col3, #T_e9739_row9_col3, #T_e9739_row10_col3, #T_e9739_row11_col3, #T_e9739_row12_col3, #T_e9739_row13_col3, #T_e9739_row14_col3, #T_e9739_row15_col3 {\n",
       "  background-color: #440154;\n",
       "  color: #f1f1f1;\n",
       "}\n",
       "#T_e9739_row1_col0, #T_e9739_row2_col4, #T_e9739_row2_col5, #T_e9739_row2_col6, #T_e9739_row7_col0, #T_e9739_row11_col1, #T_e9739_row11_col2, #T_e9739_row11_col7 {\n",
       "  background-color: #cde11d;\n",
       "  color: #000000;\n",
       "}\n",
       "#T_e9739_row1_col4, #T_e9739_row7_col4, #T_e9739_row8_col4 {\n",
       "  background-color: #433d84;\n",
       "  color: #f1f1f1;\n",
       "}\n",
       "#T_e9739_row1_col5, #T_e9739_row4_col5, #T_e9739_row5_col5, #T_e9739_row7_col5 {\n",
       "  background-color: #443b84;\n",
       "  color: #f1f1f1;\n",
       "}\n",
       "#T_e9739_row1_col6, #T_e9739_row4_col6, #T_e9739_row7_col6 {\n",
       "  background-color: #433e85;\n",
       "  color: #f1f1f1;\n",
       "}\n",
       "#T_e9739_row2_col0 {\n",
       "  background-color: #81d34d;\n",
       "  color: #000000;\n",
       "}\n",
       "#T_e9739_row2_col1 {\n",
       "  background-color: #443983;\n",
       "  color: #f1f1f1;\n",
       "}\n",
       "#T_e9739_row3_col0 {\n",
       "  background-color: #9bd93c;\n",
       "  color: #000000;\n",
       "}\n",
       "#T_e9739_row3_col4, #T_e9739_row6_col4, #T_e9739_row9_col4, #T_e9739_row13_col4, #T_e9739_row15_col4 {\n",
       "  background-color: #404588;\n",
       "  color: #f1f1f1;\n",
       "}\n",
       "#T_e9739_row3_col5, #T_e9739_row14_col4, #T_e9739_row14_col5 {\n",
       "  background-color: #3d4d8a;\n",
       "  color: #f1f1f1;\n",
       "}\n",
       "#T_e9739_row3_col6, #T_e9739_row14_col6 {\n",
       "  background-color: #3e4a89;\n",
       "  color: #f1f1f1;\n",
       "}\n",
       "#T_e9739_row4_col0 {\n",
       "  background-color: #7ad151;\n",
       "  color: #000000;\n",
       "}\n",
       "#T_e9739_row5_col6 {\n",
       "  background-color: #443a83;\n",
       "  color: #f1f1f1;\n",
       "}\n",
       "#T_e9739_row6_col0 {\n",
       "  background-color: #95d840;\n",
       "  color: #000000;\n",
       "}\n",
       "#T_e9739_row6_col5, #T_e9739_row6_col6, #T_e9739_row9_col5, #T_e9739_row13_col5, #T_e9739_row13_col6, #T_e9739_row15_col5, #T_e9739_row15_col6 {\n",
       "  background-color: #3f4788;\n",
       "  color: #f1f1f1;\n",
       "}\n",
       "#T_e9739_row8_col0 {\n",
       "  background-color: #38598c;\n",
       "  color: #f1f1f1;\n",
       "}\n",
       "#T_e9739_row8_col5 {\n",
       "  background-color: #424186;\n",
       "  color: #f1f1f1;\n",
       "}\n",
       "#T_e9739_row8_col6 {\n",
       "  background-color: #414287;\n",
       "  color: #f1f1f1;\n",
       "}\n",
       "#T_e9739_row9_col0, #T_e9739_row10_col0 {\n",
       "  background-color: #addc30;\n",
       "  color: #000000;\n",
       "}\n",
       "#T_e9739_row9_col6 {\n",
       "  background-color: #3c4f8a;\n",
       "  color: #f1f1f1;\n",
       "}\n",
       "#T_e9739_row11_col0 {\n",
       "  background-color: #b0dd2f;\n",
       "  color: #000000;\n",
       "}\n",
       "#T_e9739_row13_col0 {\n",
       "  background-color: #46c06f;\n",
       "  color: #f1f1f1;\n",
       "}\n",
       "#T_e9739_row14_col0 {\n",
       "  background-color: #90d743;\n",
       "  color: #000000;\n",
       "}\n",
       "#T_e9739_row15_col0 {\n",
       "  background-color: #21a685;\n",
       "  color: #f1f1f1;\n",
       "}\n",
       "</style>\n",
       "<table id=\"T_e9739\">\n",
       "  <thead>\n",
       "    <tr>\n",
       "      <th class=\"blank level0\" >&nbsp;</th>\n",
       "      <th id=\"T_e9739_level0_col0\" class=\"col_heading level0 col0\" >count</th>\n",
       "      <th id=\"T_e9739_level0_col1\" class=\"col_heading level0 col1\" >mean</th>\n",
       "      <th id=\"T_e9739_level0_col2\" class=\"col_heading level0 col2\" >std</th>\n",
       "      <th id=\"T_e9739_level0_col3\" class=\"col_heading level0 col3\" >min</th>\n",
       "      <th id=\"T_e9739_level0_col4\" class=\"col_heading level0 col4\" >25%</th>\n",
       "      <th id=\"T_e9739_level0_col5\" class=\"col_heading level0 col5\" >50%</th>\n",
       "      <th id=\"T_e9739_level0_col6\" class=\"col_heading level0 col6\" >75%</th>\n",
       "      <th id=\"T_e9739_level0_col7\" class=\"col_heading level0 col7\" >max</th>\n",
       "    </tr>\n",
       "  </thead>\n",
       "  <tbody>\n",
       "    <tr>\n",
       "      <th id=\"T_e9739_level0_row0\" class=\"row_heading level0 row0\" >TEAyy</th>\n",
       "      <td id=\"T_e9739_row0_col0\" class=\"data row0 col0\" >162551.000000</td>\n",
       "      <td id=\"T_e9739_row0_col1\" class=\"data row0 col1\" >0.123211</td>\n",
       "      <td id=\"T_e9739_row0_col2\" class=\"data row0 col2\" >0.328698</td>\n",
       "      <td id=\"T_e9739_row0_col3\" class=\"data row0 col3\" >0.000000</td>\n",
       "      <td id=\"T_e9739_row0_col4\" class=\"data row0 col4\" >0.000000</td>\n",
       "      <td id=\"T_e9739_row0_col5\" class=\"data row0 col5\" >0.000000</td>\n",
       "      <td id=\"T_e9739_row0_col6\" class=\"data row0 col6\" >0.000000</td>\n",
       "      <td id=\"T_e9739_row0_col7\" class=\"data row0 col7\" >2.000000</td>\n",
       "    </tr>\n",
       "    <tr>\n",
       "      <th id=\"T_e9739_level0_row1\" class=\"row_heading level0 row1\" >gender</th>\n",
       "      <td id=\"T_e9739_row1_col0\" class=\"data row1 col0\" >162780.000000</td>\n",
       "      <td id=\"T_e9739_row1_col1\" class=\"data row1 col1\" >2.163018</td>\n",
       "      <td id=\"T_e9739_row1_col2\" class=\"data row1 col2\" >45.039935</td>\n",
       "      <td id=\"T_e9739_row1_col3\" class=\"data row1 col3\" >0.000000</td>\n",
       "      <td id=\"T_e9739_row1_col4\" class=\"data row1 col4\" >1.000000</td>\n",
       "      <td id=\"T_e9739_row1_col5\" class=\"data row1 col5\" >1.000000</td>\n",
       "      <td id=\"T_e9739_row1_col6\" class=\"data row1 col6\" >2.000000</td>\n",
       "      <td id=\"T_e9739_row1_col7\" class=\"data row1 col7\" >3122.000000</td>\n",
       "    </tr>\n",
       "    <tr>\n",
       "      <th id=\"T_e9739_level0_row2\" class=\"row_heading level0 row2\" >age</th>\n",
       "      <td id=\"T_e9739_row2_col0\" class=\"data row2 col0\" >157766.000000</td>\n",
       "      <td id=\"T_e9739_row2_col1\" class=\"data row2 col1\" >41.547051</td>\n",
       "      <td id=\"T_e9739_row2_col2\" class=\"data row2 col2\" >14.612618</td>\n",
       "      <td id=\"T_e9739_row2_col3\" class=\"data row2 col3\" >0.000000</td>\n",
       "      <td id=\"T_e9739_row2_col4\" class=\"data row2 col4\" >30.000000</td>\n",
       "      <td id=\"T_e9739_row2_col5\" class=\"data row2 col5\" >40.000000</td>\n",
       "      <td id=\"T_e9739_row2_col6\" class=\"data row2 col6\" >53.000000</td>\n",
       "      <td id=\"T_e9739_row2_col7\" class=\"data row2 col7\" >96.000000</td>\n",
       "    </tr>\n",
       "    <tr>\n",
       "      <th id=\"T_e9739_level0_row3\" class=\"row_heading level0 row3\" >suskillL</th>\n",
       "      <td id=\"T_e9739_row3_col0\" class=\"data row3 col0\" >159547.000000</td>\n",
       "      <td id=\"T_e9739_row3_col1\" class=\"data row3 col1\" >3.212195</td>\n",
       "      <td id=\"T_e9739_row3_col2\" class=\"data row3 col2\" >1.501033</td>\n",
       "      <td id=\"T_e9739_row3_col3\" class=\"data row3 col3\" >0.000000</td>\n",
       "      <td id=\"T_e9739_row3_col4\" class=\"data row3 col4\" >2.000000</td>\n",
       "      <td id=\"T_e9739_row3_col5\" class=\"data row3 col5\" >4.000000</td>\n",
       "      <td id=\"T_e9739_row3_col6\" class=\"data row3 col6\" >5.000000</td>\n",
       "      <td id=\"T_e9739_row3_col7\" class=\"data row3 col7\" >5.000000</td>\n",
       "    </tr>\n",
       "    <tr>\n",
       "      <th id=\"T_e9739_level0_row4\" class=\"row_heading level0 row4\" >knowentR</th>\n",
       "      <td id=\"T_e9739_row4_col0\" class=\"data row4 col0\" >157253.000000</td>\n",
       "      <td id=\"T_e9739_row4_col1\" class=\"data row4 col1\" >0.959670</td>\n",
       "      <td id=\"T_e9739_row4_col2\" class=\"data row4 col2\" >1.059988</td>\n",
       "      <td id=\"T_e9739_row4_col3\" class=\"data row4 col3\" >0.000000</td>\n",
       "      <td id=\"T_e9739_row4_col4\" class=\"data row4 col4\" >0.000000</td>\n",
       "      <td id=\"T_e9739_row4_col5\" class=\"data row4 col5\" >1.000000</td>\n",
       "      <td id=\"T_e9739_row4_col6\" class=\"data row4 col6\" >2.000000</td>\n",
       "      <td id=\"T_e9739_row4_col7\" class=\"data row4 col7\" >3.000000</td>\n",
       "    </tr>\n",
       "    <tr>\n",
       "      <th id=\"T_e9739_level0_row5\" class=\"row_heading level0 row5\" >OPPORTyy</th>\n",
       "      <td id=\"T_e9739_row5_col0\" class=\"data row5 col0\" >128770.000000</td>\n",
       "      <td id=\"T_e9739_row5_col1\" class=\"data row5 col1\" >0.535862</td>\n",
       "      <td id=\"T_e9739_row5_col2\" class=\"data row5 col2\" >0.498714</td>\n",
       "      <td id=\"T_e9739_row5_col3\" class=\"data row5 col3\" >0.000000</td>\n",
       "      <td id=\"T_e9739_row5_col4\" class=\"data row5 col4\" >0.000000</td>\n",
       "      <td id=\"T_e9739_row5_col5\" class=\"data row5 col5\" >1.000000</td>\n",
       "      <td id=\"T_e9739_row5_col6\" class=\"data row5 col6\" >1.000000</td>\n",
       "      <td id=\"T_e9739_row5_col7\" class=\"data row5 col7\" >1.000000</td>\n",
       "    </tr>\n",
       "    <tr>\n",
       "      <th id=\"T_e9739_level0_row6\" class=\"row_heading level0 row6\" >fearfailL</th>\n",
       "      <td id=\"T_e9739_row6_col0\" class=\"data row6 col0\" >159202.000000</td>\n",
       "      <td id=\"T_e9739_row6_col1\" class=\"data row6 col1\" >3.066425</td>\n",
       "      <td id=\"T_e9739_row6_col2\" class=\"data row6 col2\" >1.509323</td>\n",
       "      <td id=\"T_e9739_row6_col3\" class=\"data row6 col3\" >0.000000</td>\n",
       "      <td id=\"T_e9739_row6_col4\" class=\"data row6 col4\" >2.000000</td>\n",
       "      <td id=\"T_e9739_row6_col5\" class=\"data row6 col5\" >3.000000</td>\n",
       "      <td id=\"T_e9739_row6_col6\" class=\"data row6 col6\" >4.000000</td>\n",
       "      <td id=\"T_e9739_row6_col7\" class=\"data row6 col7\" >5.000000</td>\n",
       "    </tr>\n",
       "    <tr>\n",
       "      <th id=\"T_e9739_level0_row7\" class=\"row_heading level0 row7\" >gender.1</th>\n",
       "      <td id=\"T_e9739_row7_col0\" class=\"data row7 col0\" >162780.000000</td>\n",
       "      <td id=\"T_e9739_row7_col1\" class=\"data row7 col1\" >2.163018</td>\n",
       "      <td id=\"T_e9739_row7_col2\" class=\"data row7 col2\" >45.039935</td>\n",
       "      <td id=\"T_e9739_row7_col3\" class=\"data row7 col3\" >0.000000</td>\n",
       "      <td id=\"T_e9739_row7_col4\" class=\"data row7 col4\" >1.000000</td>\n",
       "      <td id=\"T_e9739_row7_col5\" class=\"data row7 col5\" >1.000000</td>\n",
       "      <td id=\"T_e9739_row7_col6\" class=\"data row7 col6\" >2.000000</td>\n",
       "      <td id=\"T_e9739_row7_col7\" class=\"data row7 col7\" >3122.000000</td>\n",
       "    </tr>\n",
       "    <tr>\n",
       "      <th id=\"T_e9739_level0_row8\" class=\"row_heading level0 row8\" >GEMHHINC</th>\n",
       "      <td id=\"T_e9739_row8_col0\" class=\"data row8 col0\" >134175.000000</td>\n",
       "      <td id=\"T_e9739_row8_col1\" class=\"data row8 col1\" >1.989476</td>\n",
       "      <td id=\"T_e9739_row8_col2\" class=\"data row8 col2\" >0.821274</td>\n",
       "      <td id=\"T_e9739_row8_col3\" class=\"data row8 col3\" >0.000000</td>\n",
       "      <td id=\"T_e9739_row8_col4\" class=\"data row8 col4\" >1.000000</td>\n",
       "      <td id=\"T_e9739_row8_col5\" class=\"data row8 col5\" >2.000000</td>\n",
       "      <td id=\"T_e9739_row8_col6\" class=\"data row8 col6\" >3.000000</td>\n",
       "      <td id=\"T_e9739_row8_col7\" class=\"data row8 col7\" >5.000000</td>\n",
       "    </tr>\n",
       "    <tr>\n",
       "      <th id=\"T_e9739_level0_row9\" class=\"row_heading level0 row9\" >UNEDUC</th>\n",
       "      <td id=\"T_e9739_row9_col0\" class=\"data row9 col0\" >160726.000000</td>\n",
       "      <td id=\"T_e9739_row9_col1\" class=\"data row9 col1\" >3.795098</td>\n",
       "      <td id=\"T_e9739_row9_col2\" class=\"data row9 col2\" >1.882766</td>\n",
       "      <td id=\"T_e9739_row9_col3\" class=\"data row9 col3\" >0.000000</td>\n",
       "      <td id=\"T_e9739_row9_col4\" class=\"data row9 col4\" >2.000000</td>\n",
       "      <td id=\"T_e9739_row9_col5\" class=\"data row9 col5\" >3.000000</td>\n",
       "      <td id=\"T_e9739_row9_col6\" class=\"data row9 col6\" >6.000000</td>\n",
       "      <td id=\"T_e9739_row9_col7\" class=\"data row9 col7\" >8.000000</td>\n",
       "    </tr>\n",
       "    <tr>\n",
       "      <th id=\"T_e9739_level0_row10\" class=\"row_heading level0 row10\" >discent</th>\n",
       "      <td id=\"T_e9739_row10_col0\" class=\"data row10 col0\" >160763.000000</td>\n",
       "      <td id=\"T_e9739_row10_col1\" class=\"data row10 col1\" >0.047673</td>\n",
       "      <td id=\"T_e9739_row10_col2\" class=\"data row10 col2\" >0.215078</td>\n",
       "      <td id=\"T_e9739_row10_col3\" class=\"data row10 col3\" >0.000000</td>\n",
       "      <td id=\"T_e9739_row10_col4\" class=\"data row10 col4\" >0.000000</td>\n",
       "      <td id=\"T_e9739_row10_col5\" class=\"data row10 col5\" >0.000000</td>\n",
       "      <td id=\"T_e9739_row10_col6\" class=\"data row10 col6\" >0.000000</td>\n",
       "      <td id=\"T_e9739_row10_col7\" class=\"data row10 col7\" >5.000000</td>\n",
       "    </tr>\n",
       "    <tr>\n",
       "      <th id=\"T_e9739_level0_row11\" class=\"row_heading level0 row11\" >busang</th>\n",
       "      <td id=\"T_e9739_row11_col0\" class=\"data row11 col0\" >160862.000000</td>\n",
       "      <td id=\"T_e9739_row11_col1\" class=\"data row11 col1\" >2376.637845</td>\n",
       "      <td id=\"T_e9739_row11_col2\" class=\"data row11 col2\" >365408.485226</td>\n",
       "      <td id=\"T_e9739_row11_col3\" class=\"data row11 col3\" >0.000000</td>\n",
       "      <td id=\"T_e9739_row11_col4\" class=\"data row11 col4\" >0.000000</td>\n",
       "      <td id=\"T_e9739_row11_col5\" class=\"data row11 col5\" >0.000000</td>\n",
       "      <td id=\"T_e9739_row11_col6\" class=\"data row11 col6\" >0.000000</td>\n",
       "      <td id=\"T_e9739_row11_col7\" class=\"data row11 col7\" >100000000.000000</td>\n",
       "    </tr>\n",
       "    <tr>\n",
       "      <th id=\"T_e9739_level0_row12\" class=\"row_heading level0 row12\" >ESTBBUSO</th>\n",
       "      <td id=\"T_e9739_row12_col0\" class=\"data row12 col0\" >162552.000000</td>\n",
       "      <td id=\"T_e9739_row12_col1\" class=\"data row12 col1\" >0.078375</td>\n",
       "      <td id=\"T_e9739_row12_col2\" class=\"data row12 col2\" >0.268761</td>\n",
       "      <td id=\"T_e9739_row12_col3\" class=\"data row12 col3\" >0.000000</td>\n",
       "      <td id=\"T_e9739_row12_col4\" class=\"data row12 col4\" >0.000000</td>\n",
       "      <td id=\"T_e9739_row12_col5\" class=\"data row12 col5\" >0.000000</td>\n",
       "      <td id=\"T_e9739_row12_col6\" class=\"data row12 col6\" >0.000000</td>\n",
       "      <td id=\"T_e9739_row12_col7\" class=\"data row12 col7\" >1.000000</td>\n",
       "    </tr>\n",
       "    <tr>\n",
       "      <th id=\"T_e9739_level0_row13\" class=\"row_heading level0 row13\" >easystartL</th>\n",
       "      <td id=\"T_e9739_row13_col0\" class=\"data row13 col0\" >153110.000000</td>\n",
       "      <td id=\"T_e9739_row13_col1\" class=\"data row13 col1\" >2.946881</td>\n",
       "      <td id=\"T_e9739_row13_col2\" class=\"data row13 col2\" >1.415338</td>\n",
       "      <td id=\"T_e9739_row13_col3\" class=\"data row13 col3\" >0.000000</td>\n",
       "      <td id=\"T_e9739_row13_col4\" class=\"data row13 col4\" >2.000000</td>\n",
       "      <td id=\"T_e9739_row13_col5\" class=\"data row13 col5\" >3.000000</td>\n",
       "      <td id=\"T_e9739_row13_col6\" class=\"data row13 col6\" >4.000000</td>\n",
       "      <td id=\"T_e9739_row13_col7\" class=\"data row13 col7\" >5.000000</td>\n",
       "    </tr>\n",
       "    <tr>\n",
       "      <th id=\"T_e9739_level0_row14\" class=\"row_heading level0 row14\" >nbstatusL</th>\n",
       "      <td id=\"T_e9739_row14_col0\" class=\"data row14 col0\" >158814.000000</td>\n",
       "      <td id=\"T_e9739_row14_col1\" class=\"data row14 col1\" >3.556481</td>\n",
       "      <td id=\"T_e9739_row14_col2\" class=\"data row14 col2\" >1.275189</td>\n",
       "      <td id=\"T_e9739_row14_col3\" class=\"data row14 col3\" >0.000000</td>\n",
       "      <td id=\"T_e9739_row14_col4\" class=\"data row14 col4\" >3.000000</td>\n",
       "      <td id=\"T_e9739_row14_col5\" class=\"data row14 col5\" >4.000000</td>\n",
       "      <td id=\"T_e9739_row14_col6\" class=\"data row14 col6\" >5.000000</td>\n",
       "      <td id=\"T_e9739_row14_col7\" class=\"data row14 col7\" >7.000000</td>\n",
       "    </tr>\n",
       "    <tr>\n",
       "      <th id=\"T_e9739_level0_row15\" class=\"row_heading level0 row15\" >nbsocentL</th>\n",
       "      <td id=\"T_e9739_row15_col0\" class=\"data row15 col0\" >148072.000000</td>\n",
       "      <td id=\"T_e9739_row15_col1\" class=\"data row15 col1\" >2.856685</td>\n",
       "      <td id=\"T_e9739_row15_col2\" class=\"data row15 col2\" >1.344627</td>\n",
       "      <td id=\"T_e9739_row15_col3\" class=\"data row15 col3\" >0.000000</td>\n",
       "      <td id=\"T_e9739_row15_col4\" class=\"data row15 col4\" >2.000000</td>\n",
       "      <td id=\"T_e9739_row15_col5\" class=\"data row15 col5\" >3.000000</td>\n",
       "      <td id=\"T_e9739_row15_col6\" class=\"data row15 col6\" >4.000000</td>\n",
       "      <td id=\"T_e9739_row15_col7\" class=\"data row15 col7\" >5.000000</td>\n",
       "    </tr>\n",
       "  </tbody>\n",
       "</table>\n"
      ],
      "text/plain": [
       "<pandas.io.formats.style.Styler at 0x7fb09fa61d20>"
      ]
     },
     "execution_count": 15,
     "metadata": {},
     "output_type": "execute_result"
    }
   ],
   "source": [
    "describeNum = TEA1.describe(include =['float64', 'int64', 'float', 'int'])\n",
    "describeNum.T.style.background_gradient(cmap='viridis',low=0.2,high=0.1)"
   ]
  },
  {
   "cell_type": "code",
   "execution_count": null,
   "id": "608275af-b252-4667-bcc8-0c1026b619c5",
   "metadata": {},
   "outputs": [],
   "source": [
    "# TEA1.dropna(axis=0, how='any')"
   ]
  },
  {
   "cell_type": "code",
   "execution_count": 8,
   "id": "95226e35-4818-4b78-bcdb-731c575bb0b6",
   "metadata": {},
   "outputs": [
    {
     "name": "stdout",
     "output_type": "stream",
     "text": [
      "<class 'pandas.core.frame.DataFrame'>\n",
      "RangeIndex: 162862 entries, 0 to 162861\n",
      "Data columns (total 16 columns):\n",
      " #   Column      Non-Null Count   Dtype  \n",
      "---  ------      --------------   -----  \n",
      " 0   TEAyy       162551 non-null  float64\n",
      " 1   gender      162780 non-null  float64\n",
      " 2   age         157766 non-null  float64\n",
      " 3   suskillL    159547 non-null  float64\n",
      " 4   knowentR    157253 non-null  float64\n",
      " 5   OPPORTyy    128770 non-null  float64\n",
      " 6   fearfailL   159202 non-null  float64\n",
      " 7   gender.1    162780 non-null  float64\n",
      " 8   GEMHHINC    134175 non-null  float64\n",
      " 9   UNEDUC      160726 non-null  float64\n",
      " 10  discent     160763 non-null  float64\n",
      " 11  busang      160862 non-null  float64\n",
      " 12  ESTBBUSO    162552 non-null  float64\n",
      " 13  easystartL  153110 non-null  float64\n",
      " 14  nbstatusL   158814 non-null  float64\n",
      " 15  nbsocentL   148072 non-null  float64\n",
      "dtypes: float64(16)\n",
      "memory usage: 19.9 MB\n"
     ]
    }
   ],
   "source": [
    "#convert categorical variables into dummy variables\n",
    "# TEA1_numeric = pd.get_dummies(TEA1)\n",
    "pd.get_dummies(TEA1[['gender','TEA','']])\n",
    "\n",
    "# check out the new dataFrame\n",
    "# TEA1_numeric.info()"
   ]
  },
  {
   "cell_type": "code",
   "execution_count": 9,
   "id": "f89542ef-1805-4b6b-9f88-93af1df849bd",
   "metadata": {},
   "outputs": [
    {
     "data": {
      "text/plain": [
       "'\\ndescribeNumCat = TEA1.describe(include=[\"O\"])\\ndescribeNumCat.T.style.background_gradient(cmap=\\'viridis\\',low=0.2,high=0.1)\\n'"
      ]
     },
     "execution_count": 9,
     "metadata": {},
     "output_type": "execute_result"
    }
   ],
   "source": [
    "'''\n",
    "describeNumCat = TEA1.describe(include=[\"O\"])\n",
    "describeNumCat.T.style.background_gradient(cmap='viridis',low=0.2,high=0.1)\n",
    "'''"
   ]
  },
  {
   "cell_type": "markdown",
   "id": "3959ce76-1c6f-4c92-84e9-f776fd1ae891",
   "metadata": {},
   "source": [
    "## Exploratory data analysis"
   ]
  },
  {
   "cell_type": "markdown",
   "id": "1c8cbcf5-e37f-4f14-b2e9-f2e3b74d6a76",
   "metadata": {},
   "source": [
    "### Feature Selection\n"
   ]
  },
  {
   "cell_type": "code",
   "execution_count": null,
   "id": "2b685ad4-078e-45cd-8ae3-6dc5546e16e4",
   "metadata": {},
   "outputs": [],
   "source": [
    "# Select relevant features\n",
    "selected_features = ['gender', 'age', 'suskillL', 'knowentR', 'OPPORTyy', 'fearfailL', \n",
    "                     'GEMHHINC', 'UNEDUC', 'discent', 'busang', 'ESTBBUSO', 'easystartL', \n",
    "                     'nbstatusL', 'nbsocentL', 'nbmediaL', 'WEFInc', 'CULSUPyy']\n",
    "df = df[selected_features + ['TEA']]\n"
   ]
  },
  {
   "cell_type": "markdown",
   "id": "39c93251-ec0d-427e-9d07-77a12becfe4c",
   "metadata": {},
   "source": [
    "As input data includes categorical variables, discrete variables, continuous variables and binary variables, we need to handle categorical variables, as ML models usually can't deal with *strings* or *categories*.We will handling categorical variables with one-hot encoding, as it is easy to understand and appropriate for medium-size datasets (sample size <10000).\n",
    "\n",
    "First, we need to convert categorical variables into dummy/indicator variables, using `One-Hot Encoding`."
   ]
  },
  {
   "cell_type": "code",
   "execution_count": null,
   "id": "ac2804e8-89fb-4780-8851-fa3100617846",
   "metadata": {},
   "outputs": [],
   "source": [
    "# One-hot encode categorical features\n",
    "df = pd.get_dummies(df, columns=['gender'])"
   ]
  },
  {
   "cell_type": "markdown",
   "id": "4ac55d19-43fc-4659-a80a-2dad0753d635",
   "metadata": {},
   "source": [
    "### Overall TEA distribution"
   ]
  },
  {
   "cell_type": "markdown",
   "id": "81f1d58a-1e48-4cba-9b17-fdd03618a94b",
   "metadata": {},
   "source": [
    "### countrywide TEA distribution"
   ]
  },
  {
   "cell_type": "markdown",
   "id": "bef7e96a-94a1-4755-872c-68ae79e7096c",
   "metadata": {},
   "source": [
    "2.1 Data Validation and Cleaning: \n",
    "This section should detail the steps taken to validate and clean the dataset, and should include any code used to perform those tasks."
   ]
  },
  {
   "cell_type": "markdown",
   "id": "40bf75a9-d5ba-4f98-a099-6b1dfb471973",
   "metadata": {},
   "source": [
    "2.2 Data Pre-Processing: \n",
    "This section should detail the steps taken to pre-process the data for analysis, and should include any code used to perform those tasks."
   ]
  },
  {
   "cell_type": "markdown",
   "id": "9125e4a6-02cd-4d31-a1f8-c7bee6d39157",
   "metadata": {},
   "source": [
    "2.3 Data Analysis and Interpretation: This stage involves using machine learning algorithms to identify patterns and trends in the data, and drawing insights and conclusions from those patterns. This may involve using regression analysis to identify relationships between variables, clustering analysis to group similar data points together, or classification analysis to predict outcomes based on known data."
   ]
  },
  {
   "cell_type": "code",
   "execution_count": null,
   "id": "c8786246-eb68-43aa-b4e1-291258652131",
   "metadata": {},
   "outputs": [],
   "source": []
  },
  {
   "cell_type": "markdown",
   "id": "84c280b5-6ee2-4d6d-bc68-1dbd36896268",
   "metadata": {},
   "source": [
    "##  Correlation heatmap\n",
    "Now how to correlate between data variables.\n",
    "\n",
    "Correlation is represented as a value between -1 and +1 where +1 indicates the highest positive correlation, -1 indicates the highest negative correlation, and 0 indicates no correlation."
   ]
  },
  {
   "cell_type": "markdown",
   "id": "b656396a-9242-45f2-b171-feed14af311a",
   "metadata": {
    "tags": []
   },
   "source": [
    "# Methodology\n"
   ]
  },
  {
   "cell_type": "markdown",
   "id": "b35f9cfe-f2d2-43bd-8cc8-b627521764ff",
   "metadata": {},
   "source": [
    "Our methodology involves data and feature selection, splitting the data into training and test sets, training the models using decision tree analysis, evaluating accuracy through parameter tuning, and interpreting the output. Our input data includes categorical variables, discrete variables, continuous variables, and binary variables, while the dependent variable is TEA."
   ]
  },
  {
   "cell_type": "markdown",
   "id": "17bfcab8-6bb1-4ac8-b384-d5a0ce12d8e6",
   "metadata": {},
   "source": [
    "## Regression Analysis\n",
    "To estimate the relationship between revenue and other variables such as industry, location, and the number of employees, we will perform a regression analysis. We will first identify the relevant variables and use them to train a regression model. We will then use the model to predict the revenue of companies in the testing set and evaluate the model's accuracy."
   ]
  },
  {
   "cell_type": "markdown",
   "id": "a95b72c8-9455-4aa1-95ec-862c086d84aa",
   "metadata": {},
   "source": [
    "## Decision Tree"
   ]
  },
  {
   "cell_type": "markdown",
   "id": "d40b5e19-a4d6-4212-94c7-d7771e1f1961",
   "metadata": {},
   "source": [
    "#删除缺失值过多的列，和观察判断来说和预测的y没有关系的列\n",
    "data.drop([\"Cabin\",\"Name\",\"Ticket\"],inplace=True,axis=1)\n",
    "3.填补相关缺失列\n",
    "\n",
    "#处理缺失值，对缺失值较多的列进行填补，例如年龄列，可使用年龄的平均值进行填补\n",
    "data[\"Age\"] = data[\"Age\"].fillna(data[\"Age\"].mean())\n",
    "4.有一些特征只确实一两个值，可以采取直接删除记录的方法\n",
    "\n",
    "data = data.dropna()"
   ]
  },
  {
   "cell_type": "code",
   "execution_count": null,
   "id": "a6128d36-d4fc-41e2-989e-8e72a210d213",
   "metadata": {},
   "outputs": [],
   "source": [
    "# Load the data\n",
    "url = \"https://raw.githubusercontent.com/EurekaDeng66/GM/main/tea_indiv_2019.csv\"\n",
    "data = pd.read_csv(https://raw.githubusercontent.com/EurekaDeng66/GM/main/tea_indiv_2019.csv)\n",
    "\n",
    "# Select relevant columns"
   ]
  },
  {
   "cell_type": "code",
   "execution_count": null,
   "id": "fdbceb1c-407f-4d6b-bca0-1143ea9334ef",
   "metadata": {},
   "outputs": [],
   "source": []
  },
  {
   "cell_type": "code",
   "execution_count": null,
   "id": "724a4db6-6142-4261-bccc-bd7fd567fe41",
   "metadata": {},
   "outputs": [],
   "source": [
    "# Select relevant features\n",
    "selected_features = ['gender', 'age', 'suskillL', 'knowentR', 'OPPORTyy', 'fearfailL', \n",
    "                     'GEMHHINC', 'UNEDUC', 'discent', 'busang', 'ESTBBUSO', 'easystartL', \n",
    "                     'nbstatusL', 'nbsocentL', 'nbmediaL', 'WEFInc', 'CULSUPyy']\n",
    "df = df[selected_features + ['TEA']]"
   ]
  },
  {
   "cell_type": "markdown",
   "id": "ae74812b-0915-42df-992f-403e9fb56bfa",
   "metadata": {},
   "source": [
    "We will now split the data into training and test sets using the train_test_split() function from the scikit-learn library."
   ]
  },
  {
   "cell_type": "code",
   "execution_count": 5,
   "id": "ee379ae8-608b-4ad4-974a-ad1ed62b1691",
   "metadata": {},
   "outputs": [],
   "source": [
    "# Split the data into training and testing sets\n",
    "X_train, X_test, y_train, y_test = train_test_split(X, y, test_size=0.2, random_state=42)"
   ]
  },
  {
   "cell_type": "markdown",
   "id": "cf39a05f-e3e9-4e94-afa6-a77a10fc394c",
   "metadata": {},
   "source": []
  },
  {
   "cell_type": "markdown",
   "id": "70e43074-b6fe-4774-b183-851f4b1070dc",
   "metadata": {},
   "source": []
  },
  {
   "cell_type": "code",
   "execution_count": null,
   "id": "c9fbbcd9-8d90-4eee-b414-992998e0cfde",
   "metadata": {},
   "outputs": [],
   "source": [
    "# Evaluate the accuracy of the model\n",
    "y_pred_train = dtc.predict(X_train)\n",
    "train_accuracy = accuracy_score(y_train, y_pred_train)\n",
    "print(\"Training accuracy:\", train_accuracy)\n",
    "\n",
    "y_pred_test = dtc.predict(X_test)\n",
    "test_accuracy = accuracy_score(y_test, y\n"
   ]
  },
  {
   "cell_type": "markdown",
   "id": "0377cae0-d52b-49aa-8308-b4176f358fe9",
   "metadata": {},
   "source": [
    "## Clustering Analysis\n",
    "To group similar respondents together based on characteristics such as household income, age, entreupreneurship, we will perform a clustering analysis. We will use an unsupervised learning algorithm K-means to cluster respondents into groups and then analyze the characteristics of each group. We will evaluate the accuracy of the clustering model by comparing the predicted cluster labels with the actual cluster labels.\n",
    "\n",
    "\n"
   ]
  },
  {
   "cell_type": "markdown",
   "id": "4e29ab5b-37aa-4318-b432-e7d56f4d1333",
   "metadata": {},
   "source": [
    "# Results & Discussion"
   ]
  },
  {
   "cell_type": "markdown",
   "id": "6a04fadb-2cfb-43a9-a37d-2e4309ce2a79",
   "metadata": {},
   "source": [
    "## Results\n",
    "Our decision tree and clustering analysis identify the main and necessary social-cognitive elements that lead to early-stage entrepreneurship, including opportunity perception, entrepreneurial self-efficacy, and fear of failure. We find that individuals with high levels of opportunity perception and entrepreneurial self-efficacy are more likely to become early-stage entrepreneurs, while those with high levels of fear of failure and low levels of entrepreneurial self-efficacy are less likely to become early-stage entrepreneurs.\n",
    "\n",
    "\n",
    "The three cognitive characteristics of self-efficacy, network and opportunity are the most important determinants of TEA. The next most important are age and fear of failure. Experience as an established business owner, terminating a business and acting as a business angel were also important, highlighting the overall importance of past experience as a determinant of entrepreneurship. In addition to age, although the decision tree algorithm has used other personal characteristics and cultural variables to construct the model, the importance scores of the variables indicate that these are of low overall importance."
   ]
  },
  {
   "cell_type": "markdown",
   "id": "1dbedbb5-b06b-4d0a-843f-d0b71edc195b",
   "metadata": {},
   "source": [
    "## Conclusion\n",
    "Our study provides valuable insights into the social-cognitive elements that lead to early-stage entrepreneurship. Our approach provides a useful tool for policymakers and researchers to identify the factors that promote entrepreneurship and design policies and interventions that support entrepreneurship. "
   ]
  },
  {
   "cell_type": "markdown",
   "id": "ddfd8183-19f8-4229-a6bd-2eac21cd3530",
   "metadata": {},
   "source": [
    "# Bibliography\n",
    "\n",
    "Shane, S., & Venkataraman, S. (2000). The promise of entrepreneurship as a field of research. Academy of Management Review, 25(1), 217-226.\n",
    "\n",
    "Baum, J. R., & Locke, E. A. (2004). The relationship of entrepreneurial traits, skill, and motivation to subsequent venture growth. Journal of Applied Psychology, 89(4), 587-598.\n",
    "\n",
    "Glaeser, E. L., & Kerr, W. R. (2009). Local industrial conditions and entrepreneurship: How much of the spatial distribution can we explain? Journal of Economics & Management Strategy, 18(3), 623-663.\n",
    "\n",
    "Kautonen, T., van Gelderen, M., & Fink, M. (2015). Robustness of the theory of planned behavior in predicting entrepreneurial intentions and actions. Entrepreneurship Theory and Practice, 39(3), 655-674.\n",
    "\n",
    "Henley, A. (2007). Entrepreneurship and household income. Journal of Business Venturing, 22(5), 753-771.\n",
    "\n",
    "Urbano, D., & Guerrero, M. (2013). Entrepreneurial activity and regional competitiveness: evidence from European entrepreneurial regions. Journal of Business Research, 66(10), 2107-2113.\n",
    "\n",
    "Lim, D. S., Oh, C. H., & De Clercq, D. (2016). Engagement in entrepreneurship in emerging economies: Interactive effects of individual-level factors and institutional conditions. International Business Review, 25(4), 933-945.\n",
    "\n",
    "Graham, B., & Bonner, K. (2022). One size fits all? Using machine learning to study heterogeneity and dominance in the determinants of early-stage entrepreneurship. Journal of Business Research, 152, 42-59."
   ]
  },
  {
   "cell_type": "markdown",
   "id": "3342ee1c-7010-42ab-9c05-619b5b11dc8b",
   "metadata": {},
   "source": [
    "word count:1957"
   ]
  },
  {
   "cell_type": "code",
   "execution_count": null,
   "id": "50d1e42a-d5a0-49cb-b4cf-dfc779351fe5",
   "metadata": {},
   "outputs": [],
   "source": [
    "end_time = time.time()\n",
    "run_time = end_time - start_time\n",
    "print(\"Total running time: \", run_time, \"seconds\")"
   ]
  }
 ],
 "metadata": {
  "kernelspec": {
   "display_name": "Python 3 (ipykernel)",
   "language": "python",
   "name": "python3"
  },
  "language_info": {
   "codemirror_mode": {
    "name": "ipython",
    "version": 3
   },
   "file_extension": ".py",
   "mimetype": "text/x-python",
   "name": "python",
   "nbconvert_exporter": "python",
   "pygments_lexer": "ipython3",
   "version": "3.10.5"
  }
 },
 "nbformat": 4,
 "nbformat_minor": 5
}
